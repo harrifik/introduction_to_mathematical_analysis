{
 "cells": [
  {
   "cell_type": "code",
   "execution_count": 1,
   "metadata": {},
   "outputs": [],
   "source": [
    "import numpy as np\n",
    "import random\n",
    "import math\n",
    "import itertools\n",
    "from sympy import factorial"
   ]
  },
  {
   "cell_type": "markdown",
   "metadata": {},
   "source": [
    "#### 1. Даны три множества a, b и с. Необходимо выполнить все изученные виды бинарных операций над всеми комбинациями множеств.\n",
    "#### 2. *Выполнить задание 1 на языке Python"
   ]
  },
  {
   "cell_type": "code",
   "execution_count": 2,
   "metadata": {},
   "outputs": [],
   "source": [
    "random.seed(42)\n",
    "a = set([random.randint(0, 99) for _ in range(random.randint(1, 10))])\n",
    "b = set([random.randint(0, 99) for _ in range(random.randint(1, 10))])\n",
    "c = set([random.randint(0, 99) for _ in range(random.randint(1, 10))])"
   ]
  },
  {
   "cell_type": "code",
   "execution_count": 3,
   "metadata": {},
   "outputs": [
    {
     "name": "stdout",
     "output_type": "stream",
     "text": [
      "a: {3, 94}\n",
      "b: {13, 17, 28, 94, 31}\n",
      "c: {64, 3, 4, 75, 11, 54, 27, 29}\n"
     ]
    }
   ],
   "source": [
    "print(f'a: {a}')\n",
    "print(f'b: {b}')\n",
    "print(f'c: {c}')"
   ]
  },
  {
   "cell_type": "code",
   "execution_count": 4,
   "metadata": {},
   "outputs": [],
   "source": [
    "sets = {\n",
    "    'a': a,\n",
    "    'b': b,\n",
    "    'c': c\n",
    "}"
   ]
  },
  {
   "cell_type": "code",
   "execution_count": 5,
   "metadata": {},
   "outputs": [
    {
     "name": "stdout",
     "output_type": "stream",
     "text": [
      "Множества: a, b\n",
      "x: {3, 94},\n",
      "y: {13, 17, 28, 94, 31}\n",
      "Объединение a | b: {17, 3, 28, 13, 94, 31}\n",
      "Пересечение a & b: {94}\n",
      "Разность a - b: {3}\n",
      "Симметрическая разность a ^ b: {17, 3, 28, 13, 31}\n",
      "Декартово произведение a * b: {(3, 13), (3, 94), (3, 31), (94, 17), (94, 28), (3, 28), (94, 31), (94, 94), (3, 17), (94, 13)}\n",
      "\n",
      "Множества: a, c\n",
      "x: {3, 94},\n",
      "y: {64, 3, 4, 75, 11, 54, 27, 29}\n",
      "Объединение a | c: {64, 3, 4, 75, 11, 54, 27, 29, 94}\n",
      "Пересечение a & c: {3}\n",
      "Разность a - c: {94}\n",
      "Симметрическая разность a ^ c: {64, 4, 75, 11, 54, 27, 29, 94}\n",
      "Декартово произведение a * c: {(94, 27), (3, 3), (3, 54), (94, 64), (3, 64), (94, 3), (3, 75), (3, 11), (94, 54), (94, 75), (94, 11), (94, 29), (3, 29), (94, 4), (3, 4), (3, 27)}\n",
      "\n",
      "Множества: b, c\n",
      "x: {13, 17, 28, 94, 31},\n",
      "y: {64, 3, 4, 75, 11, 54, 27, 29}\n",
      "Объединение b | c: {64, 3, 4, 75, 11, 13, 17, 54, 27, 28, 29, 94, 31}\n",
      "Пересечение b & c: set()\n",
      "Разность b - c: {13, 17, 28, 94, 31}\n",
      "Симметрическая разность b ^ c: {64, 3, 4, 75, 11, 13, 17, 54, 27, 28, 29, 94, 31}\n",
      "Декартово произведение b * c: {(31, 75), (28, 4), (28, 29), (17, 29), (13, 4), (94, 29), (31, 54), (17, 3), (13, 54), (94, 64), (28, 75), (13, 3), (17, 64), (17, 11), (94, 54), (94, 11), (17, 54), (13, 29), (28, 27), (28, 64), (13, 64), (13, 11), (31, 11), (31, 29), (94, 3), (31, 4), (28, 3), (94, 4), (31, 3), (17, 27), (17, 4), (94, 27), (28, 11), (17, 75), (28, 54), (13, 27), (94, 75), (31, 27), (31, 64), (13, 75)}\n",
      "\n"
     ]
    }
   ],
   "source": [
    "for combination in itertools.combinations(sets.keys(), 2):\n",
    "    x, y = combination[0], combination[1]\n",
    "    print(f'Множества: {x}, {y}')\n",
    "    print(f'x: {sets[x]},\\ny: {sets[y]}')\n",
    "    print(f'Объединение {x} | {y}: {sets[x] | sets[y]}')\n",
    "    print(f'Пересечение {x} & {y}: {sets[x] & sets[y]}')\n",
    "    print(f'Разность {x} - {y}: {sets[x] - sets[y]}')\n",
    "    print(f'Симметрическая разность {x} ^ {y}: {sets[x] ^ sets[y]}')\n",
    "    cartesian = []\n",
    "    for item in itertools.product(sets[x], sets[y]):\n",
    "        cartesian.append(item)\n",
    "    print(f'Декартово произведение {x} * {y}: {set(cartesian)}')\n",
    "    print()"
   ]
  },
  {
   "cell_type": "markdown",
   "metadata": {},
   "source": [
    "#### 3. Даны 4 последовательности. Необходимо:\n",
    "#### 1) исследовать их на монотонность;\n",
    "#### 2) исследовать на ограниченность;\n",
    "#### 3) найти пятый по счету член."
   ]
  },
  {
   "cell_type": "code",
   "execution_count": 6,
   "metadata": {},
   "outputs": [],
   "source": [
    "def monotone(sequence):\n",
    "    for i in range(1, len(sequence)):\n",
    "        if sequence[i] > sequence[i-1]:\n",
    "            return 'Последовательность монотонно возрастает'\n",
    "        elif sequence[i] < sequence[i-1]:\n",
    "            return 'Последовательность монотонно убывает'\n",
    "        else:\n",
    "            return 'Последовательность не изменяетя'"
   ]
  },
  {
   "cell_type": "code",
   "execution_count": 7,
   "metadata": {},
   "outputs": [
    {
     "name": "stdout",
     "output_type": "stream",
     "text": [
      "Последовательность монотонно возрастает\n",
      "Перывые 10 элементов последовательности 2 ^ n - n: \n",
      "[1, 2, 5, 12, 27, 58, 121, 248, 503, 1014]\n",
      "Пятый по счету член последовательности 2 ^ n - n: 27\n"
     ]
    }
   ],
   "source": [
    "# a: 2 ** n - n\n",
    "\n",
    "def f1(n):\n",
    "    return 2 ** n - n\n",
    "\n",
    "ns = list(range(1, 11, 1))\n",
    "elements = list(map(f1, ns))\n",
    "\n",
    "print(monotone(elements))\n",
    "print(f'Перывые 10 элементов последовательности 2 ^ n - n: \\n{elements}')\n",
    "print(f'Пятый по счету член последовательности 2 ^ n - n: {f1(ns[4])}')"
   ]
  },
  {
   "cell_type": "code",
   "execution_count": 8,
   "metadata": {},
   "outputs": [
    {
     "name": "stdout",
     "output_type": "stream",
     "text": [
      "Последовательность монотонно убывает\n",
      "Перывые 10 элементов последовательности 1 / (n - 1): \n",
      "[1.0, 0.5, 0.3333333333333333, 0.25, 0.2, 0.16666666666666666, 0.14285714285714285, 0.125, 0.1111111111111111, 0.1]\n",
      "Пятый по счету член последовательности 1 / (n - 1): 0.2\n"
     ]
    }
   ],
   "source": [
    "# b: 1 / (n - 1)\n",
    "\n",
    "def f2(n):\n",
    "    return 1 / (n - 1)\n",
    "\n",
    "ns = list(range(2, 12, 1))\n",
    "elements = list(map(f2, ns))\n",
    "\n",
    "print(monotone(elements))\n",
    "print(f'Перывые 10 элементов последовательности 1 / (n - 1): \\n{elements}')\n",
    "print(f'Пятый по счету член последовательности 1 / (n - 1): {f2(ns[4])}')"
   ]
  },
  {
   "cell_type": "code",
   "execution_count": 9,
   "metadata": {},
   "outputs": [
    {
     "name": "stdout",
     "output_type": "stream",
     "text": [
      "Последовательность монотонно возрастает\n",
      "Перывые 10 элементов последовательности -1 ^ n + sqrt(2 * n): \n",
      "[0.41421356237309515, 1.0, 1.4494897427831779, 1.8284271247461903, 2.1622776601683795, 2.4641016151377544, 2.7416573867739413, 3.0, 3.2426406871192848, 3.4721359549995796]\n",
      "Пятый по счету член последовательности -1 ^ n + sqrt(2 * n): 2.1622776601683795\n"
     ]
    }
   ],
   "source": [
    "# b: -1 ** n + sqrt(2 * n)\n",
    "\n",
    "def f3(n):\n",
    "    return -1 ** n + math.sqrt(2 * n)\n",
    "\n",
    "ns = list(range(1, 11, 1))\n",
    "elements = list(map(f3, ns))\n",
    "\n",
    "print(monotone(elements))\n",
    "print(f'Перывые 10 элементов последовательности -1 ^ n + sqrt(2 * n): \\n{elements}')\n",
    "print(f'Пятый по счету член последовательности -1 ^ n + sqrt(2 * n): {f3(ns[4])}')"
   ]
  },
  {
   "cell_type": "code",
   "execution_count": 10,
   "metadata": {},
   "outputs": [
    {
     "name": "stdout",
     "output_type": "stream",
     "text": [
      "Последовательность монотонно убывает\n",
      "Перывые 10 элементов последовательности (-1) ^ (2 * n) + 1 / (n ^ 2): \n",
      "[2.0, 1.25, 1.1111111111111112, 1.0625, 1.04, 1.0277777777777777, 1.0204081632653061, 1.015625, 1.0123456790123457, 1.01]\n",
      "Пятый по счету член последовательности (-1) ^ (2 * n) + 1 / (n ^ 2): 1.04\n"
     ]
    }
   ],
   "source": [
    "# b: (-1) ** (2 * n) + 1 / (n ** 2)\n",
    "\n",
    "def f4(n):\n",
    "    return (-1) ** (2 * n) + 1 / (n ** 2)\n",
    "\n",
    "ns = list(range(1, 11, 1))\n",
    "elements = list(map(f4, ns))\n",
    "\n",
    "print(monotone(elements))\n",
    "print(f'Перывые 10 элементов последовательности (-1) ^ (2 * n) + 1 / (n ^ 2): \\n{elements}')\n",
    "print(f'Пятый по счету член последовательности (-1) ^ (2 * n) + 1 / (n ^ 2): {f4(ns[4])}')"
   ]
  },
  {
   "cell_type": "markdown",
   "metadata": {},
   "source": [
    "#### 4. Найти 12-й член заданной неявно последовательности \n",
    "a1 = 128, a(n+1) - a(n) = 6, a12 - ?"
   ]
  },
  {
   "cell_type": "code",
   "execution_count": 11,
   "metadata": {},
   "outputs": [
    {
     "name": "stdout",
     "output_type": "stream",
     "text": [
      "a12: 194\n"
     ]
    }
   ],
   "source": [
    "a1 = 128\n",
    "d = 6\n",
    "\n",
    "# a(n) = a1 + (n - 1) * d\n",
    "\n",
    "a12 = a1 + (12 - 1) * d\n",
    "\n",
    "print(f'a12: {a12}')"
   ]
  }
 ],
 "metadata": {
  "kernelspec": {
   "display_name": "Python 3",
   "language": "python",
   "name": "python3"
  },
  "language_info": {
   "codemirror_mode": {
    "name": "ipython",
    "version": 3
   },
   "file_extension": ".py",
   "mimetype": "text/x-python",
   "name": "python",
   "nbconvert_exporter": "python",
   "pygments_lexer": "ipython3",
   "version": "3.7.4"
  }
 },
 "nbformat": 4,
 "nbformat_minor": 2
}
